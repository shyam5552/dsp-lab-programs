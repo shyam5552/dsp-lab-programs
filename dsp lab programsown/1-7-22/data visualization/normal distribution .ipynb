{
 "cells": [
  {
   "cell_type": "code",
   "execution_count": 22,
   "id": "d50954f6",
   "metadata": {
    "scrolled": true
   },
   "outputs": [
    {
     "name": "stdout",
     "output_type": "stream",
     "text": [
      "14.0\n"
     ]
    },
    {
     "ename": "NameError",
     "evalue": "name 'dtype' is not defined",
     "output_type": "error",
     "traceback": [
      "\u001b[1;31m---------------------------------------------------------------------------\u001b[0m",
      "\u001b[1;31mNameError\u001b[0m                                 Traceback (most recent call last)",
      "\u001b[1;32mC:\\Users\\T8381~1.SHY\\AppData\\Local\\Temp/ipykernel_7712/218668310.py\u001b[0m in \u001b[0;36m<module>\u001b[1;34m\u001b[0m\n\u001b[0;32m      2\u001b[0m \u001b[0marr\u001b[0m\u001b[1;33m=\u001b[0m\u001b[0mnp\u001b[0m\u001b[1;33m.\u001b[0m\u001b[0marray\u001b[0m\u001b[1;33m(\u001b[0m\u001b[1;33m[\u001b[0m\u001b[1;36m1\u001b[0m\u001b[1;33m,\u001b[0m\u001b[1;36m3\u001b[0m\u001b[1;33m,\u001b[0m\u001b[1;36m2\u001b[0m\u001b[1;33m,\u001b[0m\u001b[1;36m4\u001b[0m\u001b[1;33m,\u001b[0m\u001b[1;36m60\u001b[0m\u001b[1;33m]\u001b[0m\u001b[1;33m)\u001b[0m\u001b[1;33m\u001b[0m\u001b[1;33m\u001b[0m\u001b[0m\n\u001b[0;32m      3\u001b[0m \u001b[0mprint\u001b[0m\u001b[1;33m(\u001b[0m\u001b[0mnp\u001b[0m\u001b[1;33m.\u001b[0m\u001b[0mmean\u001b[0m\u001b[1;33m(\u001b[0m\u001b[0marr\u001b[0m\u001b[1;33m)\u001b[0m\u001b[1;33m)\u001b[0m\u001b[1;33m\u001b[0m\u001b[1;33m\u001b[0m\u001b[0m\n\u001b[1;32m----> 4\u001b[1;33m \u001b[0mprint\u001b[0m\u001b[1;33m(\u001b[0m\u001b[0mdtype\u001b[0m\u001b[1;33m(\u001b[0m\u001b[0marr\u001b[0m\u001b[1;33m)\u001b[0m\u001b[1;33m)\u001b[0m\u001b[1;33m\u001b[0m\u001b[1;33m\u001b[0m\u001b[0m\n\u001b[0m",
      "\u001b[1;31mNameError\u001b[0m: name 'dtype' is not defined"
     ]
    }
   ],
   "source": [
    "import numpy as np\n",
    "arr=np.array([1,3,2,4,60])\n",
    "print(np.mean(arr))\n",
    "print(dtype(arr))"
   ]
  },
  {
   "cell_type": "code",
   "execution_count": 23,
   "id": "3d572b36",
   "metadata": {},
   "outputs": [
    {
     "name": "stdout",
     "output_type": "stream",
     "text": [
      "23.021728866442675\n"
     ]
    }
   ],
   "source": [
    "print(np.std(arr))"
   ]
  },
  {
   "cell_type": "code",
   "execution_count": 24,
   "id": "bf1d564d",
   "metadata": {},
   "outputs": [
    {
     "name": "stdout",
     "output_type": "stream",
     "text": [
      "              0\n",
      "count  6.000000\n",
      "mean   3.500000\n",
      "std    1.870829\n",
      "min    1.000000\n",
      "25%    2.250000\n",
      "50%    3.500000\n",
      "75%    4.750000\n",
      "max    6.000000\n",
      "               0\n",
      "count   5.000000\n",
      "mean    6.800000\n",
      "std     7.596052\n",
      "min     1.000000\n",
      "25%     3.000000\n",
      "50%     4.000000\n",
      "75%     6.000000\n",
      "max    20.000000\n"
     ]
    }
   ],
   "source": [
    "import pandas as pd\n",
    "df=pd.DataFrame([1,2,3,4,5,6])\n",
    "dff=pd.DataFrame([1,3,20,4,6])\n",
    "print(df.describe())\n",
    "print(dff.describe())\n"
   ]
  },
  {
   "cell_type": "code",
   "execution_count": 2,
   "id": "cf281c65",
   "metadata": {},
   "outputs": [
    {
     "name": "stdout",
     "output_type": "stream",
     "text": [
      "                           Region               Country   Item Type  \\\n",
      "0    Middle East and North Africa                 Libya   Cosmetics   \n",
      "1                   North America                Canada  Vegetables   \n",
      "2    Middle East and North Africa                 Libya   Baby Food   \n",
      "3                            Asia                 Japan      Cereal   \n",
      "4              Sub-Saharan Africa                  Chad      Fruits   \n",
      "..                            ...                   ...         ...   \n",
      "995  Middle East and North Africa            Azerbaijan      Snacks   \n",
      "996                        Europe               Georgia   Baby Food   \n",
      "997  Middle East and North Africa  United Arab Emirates  Vegetables   \n",
      "998                        Europe               Finland   Household   \n",
      "999                        Europe              Portugal      Cereal   \n",
      "\n",
      "    Sales Channel Order Priority  Order Date   Order ID   Ship Date  \\\n",
      "0         Offline              M  10/18/2014  686800706  10/31/2014   \n",
      "1          Online              M   11/7/2011  185941302   12/8/2011   \n",
      "2         Offline              C  10/31/2016  246222341   12/9/2016   \n",
      "3         Offline              C   4/10/2010  161442649   5/12/2010   \n",
      "4         Offline              H   8/16/2011  645713555   8/31/2011   \n",
      "..            ...            ...         ...        ...         ...   \n",
      "995       Offline              C   4/18/2010  534085166   4/25/2010   \n",
      "996       Offline              H    8/1/2011  590768182    9/7/2011   \n",
      "997        Online              C   5/12/2011  524363124   6/28/2011   \n",
      "998       Offline              L   1/25/2016  289606320   2/14/2016   \n",
      "999       Offline              C   4/10/2014  811546599    5/8/2014   \n",
      "\n",
      "     Units Sold  Unit Price  Unit Cost  Total Revenue  Total Cost  \\\n",
      "0          8446      437.20     263.33     3692591.20  2224085.18   \n",
      "1          3018      154.06      90.93      464953.08   274426.74   \n",
      "2          1517      255.28     159.42      387259.76   241840.14   \n",
      "3          3322      205.70     117.11      683335.40   389039.42   \n",
      "4          9845        9.33       6.92       91853.85    68127.40   \n",
      "..          ...         ...        ...            ...         ...   \n",
      "995        6524      152.58      97.44      995431.92   635698.56   \n",
      "996         288      255.28     159.42       73520.64    45912.96   \n",
      "997        9556      154.06      90.93     1472197.36   868927.08   \n",
      "998        9801      668.27     502.54     6549714.27  4925394.54   \n",
      "999        3528      205.70     117.11      725709.60   413164.08   \n",
      "\n",
      "     Total Profit  \n",
      "0      1468506.02  \n",
      "1       190526.34  \n",
      "2       145419.62  \n",
      "3       294295.98  \n",
      "4        23726.45  \n",
      "..            ...  \n",
      "995     359733.36  \n",
      "996      27607.68  \n",
      "997     603270.28  \n",
      "998    1624319.73  \n",
      "999     312545.52  \n",
      "\n",
      "[1000 rows x 14 columns]\n"
     ]
    }
   ],
   "source": [
    "import pandas as pd\n",
    "ds=pd.read_csv(\"1000salesrecords.csv\")\n",
    "print(ds)\n"
   ]
  },
  {
   "cell_type": "code",
   "execution_count": 17,
   "id": "bdf3fd70",
   "metadata": {},
   "outputs": [
    {
     "name": "stdout",
     "output_type": "stream",
     "text": [
      "count    1.000000e+03\n",
      "mean     9.361192e+05\n",
      "std      1.162571e+06\n",
      "min      1.416750e+03\n",
      "25%      1.649319e+05\n",
      "50%      4.647261e+05\n",
      "75%      1.141750e+06\n",
      "max      5.204978e+06\n",
      "Name: Total Cost, dtype: float64\n"
     ]
    }
   ],
   "source": [
    "us=ds[\"Total Cost\"].describe()\n",
    "print(us)"
   ]
  },
  {
   "cell_type": "code",
   "execution_count": 18,
   "id": "a21d0685",
   "metadata": {},
   "outputs": [
    {
     "name": "stdout",
     "output_type": "stream",
     "text": [
      "count    1.000000e+03\n",
      "mean     3.912026e+05\n",
      "std      3.836402e+05\n",
      "min      5.326100e+02\n",
      "25%      9.837612e+04\n",
      "50%      2.772260e+05\n",
      "75%      5.484568e+05\n",
      "max      1.726181e+06\n",
      "Name: Total Profit, dtype: float64\n"
     ]
    }
   ],
   "source": [
    "pr=ds[\"Total Profit\"].describe()\n",
    "print(pr)"
   ]
  },
  {
   "cell_type": "code",
   "execution_count": 31,
   "id": "11c2fb3e",
   "metadata": {},
   "outputs": [
    {
     "data": {
      "text/plain": [
       "([<matplotlib.patches.Wedge at 0x2bb31a41940>,\n",
       "  <matplotlib.patches.Wedge at 0x2bb31a41e80>,\n",
       "  <matplotlib.patches.Wedge at 0x2bb31a503a0>,\n",
       "  <matplotlib.patches.Wedge at 0x2bb31a50850>,\n",
       "  <matplotlib.patches.Wedge at 0x2bb31a50d30>,\n",
       "  <matplotlib.patches.Wedge at 0x2bb31a5e250>,\n",
       "  <matplotlib.patches.Wedge at 0x2bb31a5e730>,\n",
       "  <matplotlib.patches.Wedge at 0x2bb31a5ec10>],\n",
       " [Text(1.0999999341234896, 0.00038069452185557915, 'count'),\n",
       "  Text(1.0425316972578655, 0.3508955118160314, 'mean'),\n",
       "  Text(0.5463766298283366, 0.9547107302096426, 'std'),\n",
       "  Text(0.1283625287443866, 1.092484810518822, 'min'),\n",
       "  Text(0.0652892496720413, 1.0980607059162357, '25%'),\n",
       "  Text(-0.1736502204970968, 1.0862069788586841, '50%'),\n",
       "  Text(-0.7207686038695212, 0.8309588555855105, '75%'),\n",
       "  Text(-0.25138929908627605, -1.0708890793657908, 'max')])"
      ]
     },
     "execution_count": 31,
     "metadata": {},
     "output_type": "execute_result"
    },
    {
     "data": {
      "image/png": "[encoded data removed]",
      "text/plain": [
       "<Figure size 432x288 with 1 Axes>"
      ]
     },
     "metadata": {},
     "output_type": "display_data"
    }
   ],
   "source": [
    "import matplotlib.pyplot as plt\n",
    "\n",
    "\n",
    "plt.pie(us,labels=[\"count\",\"mean\",\"std\",\"min\",\"25%\",\"50%\",\"75%\",\"max\"])\n"
   ]
  },
  {
   "cell_type": "code",
   "execution_count": 34,
   "id": "bb4f6246",
   "metadata": {},
   "outputs": [
    {
     "data": {
      "text/plain": [
       "([<matplotlib.patches.Wedge at 0x2bb31b09610>,\n",
       "  <matplotlib.patches.Wedge at 0x2bb31b09b50>,\n",
       "  <matplotlib.patches.Wedge at 0x2bb31b09fd0>,\n",
       "  <matplotlib.patches.Wedge at 0x2bb31b184f0>,\n",
       "  <matplotlib.patches.Wedge at 0x2bb31b189d0>,\n",
       "  <matplotlib.patches.Wedge at 0x2bb31b18eb0>,\n",
       "  <matplotlib.patches.Wedge at 0x2bb31b253d0>,\n",
       "  <matplotlib.patches.Wedge at 0x2bb31b258b0>],\n",
       " [Text(1.099999537691806, 0.0010085027583377803, 'count'),\n",
       "  Text(1.0292940411361966, 0.38801259886956996, 'mean'),\n",
       "  Text(0.5272792399934002, 0.9653893530964501, 'std'),\n",
       "  Text(0.16186942464049517, 1.0880249488713736, 'min'),\n",
       "  Text(0.0626756879879542, 1.098212983958593, '25%'),\n",
       "  Text(-0.31175416508523013, 1.0548977867793692, '50%'),\n",
       "  Text(-0.9510602651530489, 0.5527064067359927, '75%'),\n",
       "  Text(-0.012982658410416596, -1.099923383959355, 'max')])"
      ]
     },
     "execution_count": 34,
     "metadata": {},
     "output_type": "execute_result"
    },
    {
     "data": {
      "image/png": "[encoded data removed]",
      "text/plain": [
       "<Figure size 432x288 with 1 Axes>"
      ]
     },
     "metadata": {},
     "output_type": "display_data"
    }
   ],
   "source": [
    "plt.pie(pr,labels=[\"count\",\"mean\",\"std\",\"min\",\"25%\",\"50%\",\"75%\",\"max\"])"
   ]
  },
  {
   "cell_type": "code",
   "execution_count": 35,
   "id": "992bb8e0",
   "metadata": {},
   "outputs": [
    {
     "data": {
      "text/plain": [
       "[<matplotlib.lines.Line2D at 0x2bb31b6d490>]"
      ]
     },
     "execution_count": 35,
     "metadata": {},
     "output_type": "execute_result"
    },
    {
     "data": {
      "image/png": "[encoded data removed]",
      "text/plain": [
       "<Figure size 432x288 with 1 Axes>"
      ]
     },
     "metadata": {
      "needs_background": "light"
     },
     "output_type": "display_data"
    }
   ],
   "source": [
    "plt.plot(us)"
   ]
  },
  {
   "cell_type": "code",
   "execution_count": 36,
   "id": "d70cfed0",
   "metadata": {},
   "outputs": [
    {
     "data": {
      "text/plain": [
       "[<matplotlib.lines.Line2D at 0x2bb315a2700>]"
      ]
     },
     "execution_count": 36,
     "metadata": {},
     "output_type": "execute_result"
    },
    {
     "data": {
      "image/png": "[encoded data removed]",
      "text/plain": [
       "<Figure size 432x288 with 1 Axes>"
      ]
     },
     "metadata": {
      "needs_background": "light"
     },
     "output_type": "display_data"
    }
   ],
   "source": [
    "plt.plot(pr)"
   ]
  },
  {
   "cell_type": "code",
   "execution_count": 60,
   "id": "5ae7b79a",
   "metadata": {},
   "outputs": [],
   "source": []
  },
  {
   "cell_type": "code",
   "execution_count": null,
   "id": "86098152",
   "metadata": {},
   "outputs": [],
   "source": []
  },
  {
   "cell_type": "code",
   "execution_count": null,
   "id": "c16d34a1",
   "metadata": {},
   "outputs": [],
   "source": []
  }
 ],
 "metadata": {
  "kernelspec": {
   "display_name": "Python 3 (ipykernel)",
   "language": "python",
   "name": "python3"
  },
  "language_info": {
   "codemirror_mode": {
    "name": "ipython",
    "version": 3
   },
   "file_extension": ".py",
   "mimetype": "text/x-python",
   "name": "python",
   "nbconvert_exporter": "python",
   "pygments_lexer": "ipython3",
   "version": "3.9.7"
  }
 },
 "nbformat": 4,
 "nbformat_minor": 5
}
