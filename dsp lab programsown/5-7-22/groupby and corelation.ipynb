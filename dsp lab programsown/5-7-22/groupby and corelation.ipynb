{
 "cells": [
  {
   "cell_type": "code",
   "execution_count": 5,
   "id": "6467b521",
   "metadata": {},
   "outputs": [
    {
     "name": "stdout",
     "output_type": "stream",
     "text": [
      "     name  age  salary gender   dept\n",
      "0   shyam   20   20000      m    cse\n",
      "1     sai   20   30000      m    ece\n",
      "2  bhagya   40   40000      f  civil\n",
      "3   snaha   22   50000      f  civil\n",
      "4    hema   29   70000      f    cse\n"
     ]
    }
   ],
   "source": [
    "import pandas as pd\n",
    "df=pd.read_csv(\"group.csv\")\n",
    "print(df)"
   ]
  },
  {
   "cell_type": "code",
   "execution_count": 4,
   "id": "180778c0",
   "metadata": {},
   "outputs": [
    {
     "name": "stdout",
     "output_type": "stream",
     "text": [
      "<pandas.core.groupby.generic.DataFrameGroupBy object at 0x0000024AD3D701F0>\n"
     ]
    }
   ],
   "source": [
    "a=df.groupby([\"gender\"])\n",
    "print(a)"
   ]
  },
  {
   "cell_type": "code",
   "execution_count": 14,
   "id": "c49ba2fe",
   "metadata": {},
   "outputs": [
    {
     "name": "stdout",
     "output_type": "stream",
     "text": [
      "{'f': [2, 3, 4], 'm': [0, 1]}\n"
     ]
    }
   ],
   "source": [
    "print(a.groups)"
   ]
  },
  {
   "cell_type": "code",
   "execution_count": 8,
   "id": "e6d1a3d9",
   "metadata": {},
   "outputs": [
    {
     "name": "stdout",
     "output_type": "stream",
     "text": [
      "         name  age  salary dept\n",
      "gender                         \n",
      "f       snaha   40   70000  cse\n",
      "m       shyam   20   30000  ece\n"
     ]
    }
   ],
   "source": [
    "print(df.groupby([\"gender\"]).max())"
   ]
  },
  {
   "cell_type": "code",
   "execution_count": 18,
   "id": "d5fab270",
   "metadata": {},
   "outputs": [
    {
     "name": "stdout",
     "output_type": "stream",
     "text": [
      "        name  age  salary gender\n",
      "dept                            \n",
      "civil  snaha   40   50000      f\n",
      "cse    shyam   29   70000      m\n",
      "ece      sai   20   30000      m\n"
     ]
    }
   ],
   "source": [
    "x=df.groupby([\"dept\"]).max()\n",
    "print(x)"
   ]
  },
  {
   "cell_type": "code",
   "execution_count": 19,
   "id": "af3ae316",
   "metadata": {},
   "outputs": [
    {
     "name": "stdout",
     "output_type": "stream",
     "text": [
      "f    3\n",
      "m    2\n",
      "Name: gender, dtype: int64\n"
     ]
    }
   ],
   "source": [
    "print(df[\"gender\"].value_counts())"
   ]
  },
  {
   "cell_type": "code",
   "execution_count": null,
   "id": "05965fbf",
   "metadata": {},
   "outputs": [],
   "source": []
  }
 ],
 "metadata": {
  "kernelspec": {
   "display_name": "Python 3 (ipykernel)",
   "language": "python",
   "name": "python3"
  },
  "language_info": {
   "codemirror_mode": {
    "name": "ipython",
    "version": 3
   },
   "file_extension": ".py",
   "mimetype": "text/x-python",
   "name": "python",
   "nbconvert_exporter": "python",
   "pygments_lexer": "ipython3",
   "version": "3.9.7"
  }
 },
 "nbformat": 4,
 "nbformat_minor": 5
}
