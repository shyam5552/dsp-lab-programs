{
 "cells": [
  {
   "cell_type": "code",
   "execution_count": 11,
   "id": "776e07e1",
   "metadata": {},
   "outputs": [
    {
     "ename": "NameError",
     "evalue": "name 'samall' is not defined",
     "output_type": "error",
     "traceback": [
      "\u001b[1;31m---------------------------------------------------------------------------\u001b[0m",
      "\u001b[1;31mNameError\u001b[0m                                 Traceback (most recent call last)",
      "\u001b[1;32mC:\\Users\\T8381~1.SHY\\AppData\\Local\\Temp/ipykernel_9816/760729422.py\u001b[0m in \u001b[0;36m<module>\u001b[1;34m\u001b[0m\n\u001b[0;32m      6\u001b[0m \u001b[1;32mfor\u001b[0m \u001b[0mi\u001b[0m \u001b[1;32min\u001b[0m \u001b[0msmall\u001b[0m\u001b[1;33m:\u001b[0m\u001b[1;33m\u001b[0m\u001b[1;33m\u001b[0m\u001b[0m\n\u001b[0;32m      7\u001b[0m     \u001b[0msmall\u001b[0m\u001b[1;33m=\u001b[0m\u001b[0mfile2\u001b[0m\u001b[1;33m.\u001b[0m\u001b[0mwrite\u001b[0m\u001b[1;33m(\u001b[0m\u001b[0mi\u001b[0m\u001b[1;33m)\u001b[0m\u001b[1;33m\u001b[0m\u001b[1;33m\u001b[0m\u001b[0m\n\u001b[1;32m----> 8\u001b[1;33m \u001b[0mprint\u001b[0m\u001b[1;33m(\u001b[0m\u001b[0msamall\u001b[0m\u001b[1;33m)\u001b[0m\u001b[1;33m\u001b[0m\u001b[1;33m\u001b[0m\u001b[0m\n\u001b[0m",
      "\u001b[1;31mNameError\u001b[0m: name 'samall' is not defined"
     ]
    }
   ],
   "source": [
    "file=open(\"contentx.txt\",\"r\")\n",
    "text=file.read()\n",
    "import re\n",
    "small=re.findall(\"[a-z]\",text)\n",
    "file2=open(\"smallalpha.txt\",\"w\")\n",
    "for i in small:\n",
    "    small=file2.write(i)\n",
    "print(samall)"
   ]
  },
  {
   "cell_type": "code",
   "execution_count": 36,
   "id": "7dd9e9dd",
   "metadata": {},
   "outputs": [
    {
     "name": "stdout",
     "output_type": "stream",
     "text": [
      "1\n",
      "1\n",
      "1\n",
      "1\n",
      "1\n",
      "1\n"
     ]
    }
   ],
   "source": [
    "file=open(\"contentx.txt\",\"r\")\n",
    "text=file.read()\n",
    "file2=open(\"small.txt\",\"w\")\n",
    "file3=open(\"capitalletters.txt\",\"w\")\n",
    "file4=open(\"numbers.txt\",\"w\")\n",
    "file5=open(\"special.txt\",\"w\")\n",
    "for i in text:\n",
    "    if(i.isalpha()):\n",
    "        if(i.islower()):\n",
    "            smallf=file2.write(i)\n",
    "            print(smallf)\n",
    "        else:\n",
    "            capital=file3.write(i)\n",
    "    \n",
    "    elif(i.isdigit()):\n",
    "        num=file4.write(i)\n",
    "    else:\n",
    "        special=file5.write(i)"
   ]
  },
  {
   "cell_type": "code",
   "execution_count": null,
   "id": "5c3ee21e",
   "metadata": {},
   "outputs": [],
   "source": []
  }
 ],
 "metadata": {
  "kernelspec": {
   "display_name": "Python 3 (ipykernel)",
   "language": "python",
   "name": "python3"
  },
  "language_info": {
   "codemirror_mode": {
    "name": "ipython",
    "version": 3
   },
   "file_extension": ".py",
   "mimetype": "text/x-python",
   "name": "python",
   "nbconvert_exporter": "python",
   "pygments_lexer": "ipython3",
   "version": "3.9.7"
  }
 },
 "nbformat": 4,
 "nbformat_minor": 5
}
